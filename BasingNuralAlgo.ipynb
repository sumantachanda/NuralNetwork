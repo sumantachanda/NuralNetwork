{
  "nbformat": 4,
  "nbformat_minor": 0,
  "metadata": {
    "colab": {
      "name": "Untitled7.ipynb",
      "provenance": [],
      "authorship_tag": "ABX9TyPdTSFRkidVMKSE6peXFxwN",
      "include_colab_link": true
    },
    "kernelspec": {
      "name": "python3",
      "display_name": "Python 3"
    },
    "language_info": {
      "name": "python"
    }
  },
  "cells": [
    {
      "cell_type": "markdown",
      "metadata": {
        "id": "view-in-github",
        "colab_type": "text"
      },
      "source": [
        "<a href=\"https://colab.research.google.com/github/sumantachanda/NuralNetwork/blob/main/BasingNuralAlgo.ipynb\" target=\"_parent\"><img src=\"https://colab.research.google.com/assets/colab-badge.svg\" alt=\"Open In Colab\"/></a>"
      ]
    },
    {
      "cell_type": "markdown",
      "source": [
        "[tutoril](https://www.youtube.com/watch?v=kft1AJ9WVDk)\n",
        "\n",
        "\n",
        "{<br>\n",
        " ( input1-   0 0 1 )(0) <br>\n",
        "  ( input1-  1 11 )(1) <br>\n",
        "   ( input1-  1 0 1 )(1) <br>\n",
        "    ( input1-   1 0 0 )(0) <br>\n",
        "\n",
        "\n",
        "    find 1 0 0 ?\n",
        "\n"
      ],
      "metadata": {
        "id": "b7O2ryBHagR0"
      }
    },
    {
      "cell_type": "code",
      "source": [
        "import numpy as np    #packages\n"
      ],
      "metadata": {
        "id": "n_XB6A2Tbl7E"
      },
      "execution_count": 43,
      "outputs": []
    },
    {
      "cell_type": "code",
      "source": [
        "#data set for taning \n",
        "training_input =np.array([\n",
        "                      [0, 0, 1],\n",
        "                      [1, 1, 1],\n",
        "                      [1, 0, 1],\n",
        "                      [0, 0, 1]\n",
        "                      ])   \n",
        "\n",
        "training_output =np.array([[0,1,1,0]]).T\n",
        "c"
      ],
      "metadata": {
        "id": "n1Zp2BL-clXw"
      },
      "execution_count": 44,
      "outputs": []
    },
    {
      "cell_type": "code",
      "source": [
        "c=30\n",
        "b=20\n",
        "a=10\n",
        "x = a + b\\*C\n",
        "print (x)"
      ],
      "metadata": {
        "colab": {
          "base_uri": "https://localhost:8080/",
          "height": 130
        },
        "id": "FUlIdtZrkS6S",
        "outputId": "873356a6-549f-4f27-ea3f-65d2f5006722"
      },
      "execution_count": 1,
      "outputs": [
        {
          "output_type": "error",
          "ename": "SyntaxError",
          "evalue": "ignored",
          "traceback": [
            "\u001b[0;36m  File \u001b[0;32m\"<ipython-input-1-2dae35a06f52>\"\u001b[0;36m, line \u001b[0;32m4\u001b[0m\n\u001b[0;31m    x = a + b\\*C\u001b[0m\n\u001b[0m                ^\u001b[0m\n\u001b[0;31mSyntaxError\u001b[0m\u001b[0;31m:\u001b[0m unexpected character after line continuation character\n"
          ]
        }
      ]
    },
    {
      "cell_type": "code",
      "source": [
        "#waights for synaps\n",
        "\n",
        "np.random.seed(1)   #random waights\n",
        "synptic_weights = 2*np.random.random((3,1)) - 1\n",
        "\n",
        "print(\"_____________________________synaptic waights__________\")\n",
        "print(synptic_weights)\n",
        "\n"
      ],
      "metadata": {
        "colab": {
          "base_uri": "https://localhost:8080/"
        },
        "id": "S2qYJ09rdDp3",
        "outputId": "8b272e81-61ed-48a9-fd34-850613231671"
      },
      "execution_count": 45,
      "outputs": [
        {
          "output_type": "stream",
          "name": "stdout",
          "text": [
            "_____________________________synaptic waights__________\n",
            "[[-0.16595599]\n",
            " [ 0.44064899]\n",
            " [-0.99977125]]\n"
          ]
        }
      ]
    },
    {
      "cell_type": "code",
      "source": [
        "\n",
        "def sigmoid(x):\n",
        "  return 1/(1 +np.exp(-x))    #sigmoidfncuntion or normalition fn\n",
        "\n",
        "# x = np.dot(input_layer,synptic_weights )"
      ],
      "metadata": {
        "id": "CcPTVOdtsC6i"
      },
      "execution_count": 46,
      "outputs": []
    },
    {
      "cell_type": "code",
      "source": [
        "#min loop\n",
        "\n",
        "for iteration in range(50000):\n",
        "  input_layer = training_input\n",
        "\n",
        "  outputs = sigmoid(np.dot(input_layer,synptic_weights ))   #dot product of traing layer * syapricweight\n",
        "\n",
        "\n",
        "print(\"________________________________________output\")\n",
        "print(outputs)\n",
        "\n",
        "\n",
        "\n",
        "\n"
      ],
      "metadata": {
        "colab": {
          "base_uri": "https://localhost:8080/"
        },
        "id": "Dkh4fNNonGdt",
        "outputId": "e4edd89c-727a-48a7-acec-149c9e5518f7"
      },
      "execution_count": 47,
      "outputs": [
        {
          "output_type": "stream",
          "name": "stdout",
          "text": [
            "________________________________________output\n",
            "[[0.2689864 ]\n",
            " [0.3262757 ]\n",
            " [0.23762817]\n",
            " [0.2689864 ]]\n"
          ]
        }
      ]
    },
    {
      "cell_type": "markdown",
      "source": [
        "![image.png](data:image/png;base64,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)"
      ],
      "metadata": {
        "id": "FTVvB-0_pAC_"
      }
    },
    {
      "cell_type": "code",
      "source": [
        "#error calculation\n",
        "\n",
        "error = training_output - outputs\n",
        "print(error)"
      ],
      "metadata": {
        "colab": {
          "base_uri": "https://localhost:8080/"
        },
        "id": "G3DEACSQpDx7",
        "outputId": "404775da-b8d3-46b5-95c8-b51a93435065"
      },
      "execution_count": 48,
      "outputs": [
        {
          "output_type": "stream",
          "name": "stdout",
          "text": [
            "[[-0.2689864 ]\n",
            " [ 0.6737243 ]\n",
            " [ 0.76237183]\n",
            " [-0.2689864 ]]\n"
          ]
        }
      ]
    },
    {
      "cell_type": "code",
      "source": [
        "#adjustment weight\n",
        "\n",
        "#calcuting the sigmoid derivative \n",
        "\n",
        "\n",
        "def sigmoid_derivative(x):\n",
        "  return x * (1-x)\n",
        "\n",
        "sigmoid_derivative(outputs)\n",
        "\n",
        "\n",
        "# x = sigmoid_derivative(outputs)\n"
      ],
      "metadata": {
        "colab": {
          "base_uri": "https://localhost:8080/"
        },
        "id": "wS5tSVanp55H",
        "outputId": "cdba7066-54bf-4ea5-f689-425b7f859e4a"
      },
      "execution_count": 49,
      "outputs": [
        {
          "output_type": "execute_result",
          "data": {
            "text/plain": [
              "array([[0.19663272],\n",
              "       [0.21981987],\n",
              "       [0.18116102],\n",
              "       [0.19663272]])"
            ]
          },
          "metadata": {},
          "execution_count": 49
        }
      ]
    },
    {
      "cell_type": "code",
      "source": [
        "#calcuting the adjustment weight\n",
        "\n",
        "adjustment = error*sigmoid_derivative(outputs)\n",
        "print(adjustment)"
      ],
      "metadata": {
        "colab": {
          "base_uri": "https://localhost:8080/"
        },
        "id": "cfK1j2g5rUJT",
        "outputId": "85456a39-21b3-4461-a40d-e96e0a512c32"
      },
      "execution_count": 50,
      "outputs": [
        {
          "output_type": "stream",
          "name": "stdout",
          "text": [
            "[[-0.05289153]\n",
            " [ 0.14809799]\n",
            " [ 0.13811206]\n",
            " [-0.05289153]]\n"
          ]
        }
      ]
    },
    {
      "cell_type": "code",
      "source": [
        "#new synaptic weight after adjustment \n",
        "synptic_weights += np.dot(input_layer.T,adjustment)\n",
        "print(synptic_weights)"
      ],
      "metadata": {
        "colab": {
          "base_uri": "https://localhost:8080/"
        },
        "id": "mc-zmJW4tCZ0",
        "outputId": "98200216-cb8f-4c0b-cf62-b0d4bf56c775"
      },
      "execution_count": 51,
      "outputs": [
        {
          "output_type": "stream",
          "name": "stdout",
          "text": [
            "[[ 0.12025406]\n",
            " [ 0.58874697]\n",
            " [-0.81934425]]\n"
          ]
        }
      ]
    },
    {
      "cell_type": "code",
      "source": [
        "\n",
        "\n",
        "\n",
        "#### full code\n",
        "\n",
        "\n",
        "import numpy as np    #packages\n",
        "training_input =np.array([[0, 0, 1],\n",
        "                      [1, 1, 1],\n",
        "                      [1, 0, 1],\n",
        "                      [0, 0, 1]])   \n",
        "\n",
        "training_output =np.array([[0,1,1,0]]).T\n",
        "#waights for synaps\n",
        "\n",
        "np.random.seed(1)   #random waights\n",
        "synptic_weights = 2*np.random.random((3,1)) - 1\n",
        "\n",
        "print(\"_____________________________synaptic waights__________\")\n",
        "print(synptic_weights)\n",
        "\n",
        "def sigmoid(x):\n",
        "  return 1/(1 +np.exp(-x))    #sigmoidfncuntion or normalition fn\n",
        "\n",
        "# x = np.dot(input_layer,synptic_weights )\n",
        "\n",
        "\n",
        "def sigmoid_derivative(x):\n",
        "  return x * (1-x)\n",
        "\n",
        "sigmoid_derivative(outputs)\n",
        "\n",
        "#min loop\n",
        "\n",
        "for iteration in range(50000):\n",
        "  input_layer = training_input\n",
        "\n",
        "  outputs = sigmoid(np.dot(input_layer,synptic_weights ))\n",
        "  error = training_output - outputs   #dot product of traing layer * syapricweight\n",
        "  adjustment = error*sigmoid_derivative(outputs)\n",
        "  synptic_weights += np.dot(input_layer.T,adjustment)\n",
        "\n",
        "print(\"________________________________________output\")\n",
        "print(outputs)\n",
        "\n",
        "\n",
        "#error calculation\n",
        "print(\"________________________________________\")\n",
        "\n",
        "print(synptic_weights)\n",
        "\n",
        "#adjustment weight\n",
        "\n",
        "#calcuting the sigmoid derivative \n",
        "\n",
        "print(\"________________________________________\")\n",
        "\n",
        "\n",
        "# x = sigmoid_derivative(outputs)\n",
        "\n",
        "\n",
        "\n",
        "#calcuting the adjustment weight\n",
        "\n",
        "print(adjustment)\n",
        "\n",
        "\n",
        "\n",
        "\n",
        "\n",
        "\n"
      ],
      "metadata": {
        "colab": {
          "base_uri": "https://localhost:8080/"
        },
        "id": "eZNlt8tQuxzl",
        "outputId": "c011d15c-98e0-4490-e8e2-6d68f4de3feb"
      },
      "execution_count": 54,
      "outputs": [
        {
          "output_type": "stream",
          "name": "stdout",
          "text": [
            "_____________________________synaptic waights__________\n",
            "[[-0.16595599]\n",
            " [ 0.44064899]\n",
            " [-0.99977125]]\n",
            "________________________________________output\n",
            "[[0.00390258]\n",
            " [0.99918621]\n",
            " [0.99556742]\n",
            " [0.00390258]]\n",
            "________________________________________\n",
            "[[10.95655731]\n",
            " [ 1.69866186]\n",
            " [-5.54221727]]\n",
            "________________________________________\n",
            "[[-1.51706952e-05]\n",
            " [ 6.61719129e-07]\n",
            " [ 1.95607179e-05]\n",
            " [-1.51706952e-05]]\n"
          ]
        }
      ]
    }
  ]
}